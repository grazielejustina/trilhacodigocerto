{
 "cells": [
  {
   "cell_type": "code",
   "execution_count": 3,
   "metadata": {},
   "outputs": [],
   "source": [
    "#Carregamento de Dados: Implemente a funcionalidade para carregar um conjunto de dados em formato CSV ou outro formato simples suportado pelo Python.\n",
    "\n",
    "#importar a biblioteca Pandas\n",
    "import pandas as pd\n",
    "\n",
    "#definição da função\n",
    "def carregar_csv(caminho_arquivo):\n",
    "\n",
    "#tentando ler o arquivo CSV por meio de codificações \n",
    "    codificacoes = ['utf-8', 'latin1', 'windows-1252']\n",
    "    for encoding in codificacoes:\n",
    "        try:\n",
    "            return pd.read_csv(caminho_arquivo, encoding=encoding, parse_dates=[\"Data\"])\n",
    "        except UnicodeDecodeError:\n",
    "            continue\n",
    " \n",
    "# Caminho para o arquivo CSV\n",
    "caminho_arquivo = 'C:\\\\Users\\\\grazi\\\\Downloads\\\\codes\\\\Análise de Dados Vendas de Cursos Online.csv'\n",
    "\n",
    "# Carregar o DataFrame\n",
    "df = carregar_csv(caminho_arquivo)"
   ]
  }
 ],
 "metadata": {
  "kernelspec": {
   "display_name": "Python 3",
   "language": "python",
   "name": "python3"
  },
  "language_info": {
   "codemirror_mode": {
    "name": "ipython",
    "version": 3
   },
   "file_extension": ".py",
   "mimetype": "text/x-python",
   "name": "python",
   "nbconvert_exporter": "python",
   "pygments_lexer": "ipython3",
   "version": "3.11.9"
  }
 },
 "nbformat": 4,
 "nbformat_minor": 2
}
